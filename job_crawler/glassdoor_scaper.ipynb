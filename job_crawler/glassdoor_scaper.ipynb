{
 "cells": [
  {
   "cell_type": "code",
   "execution_count": null,
   "metadata": {
    "collapsed": true
   },
   "outputs": [],
   "source": [
    "import selenium\n",
    "from threading import Thread, Lock, Condition, Event\n",
    "from typing import List, Dict, Tuple, Sequence\n",
    "from selenium import webdriver\n",
    "from selenium.webdriver.chrome.options import Options\n",
    "import os\n",
    "import time\n",
    "from bs4 import BeautifulSoup\n",
    "import pandas as pd\n",
    "import signal\n",
    "import sys\n",
    "import platform\n",
    "from time import sleep\n",
    "from datetime import datetime, timedelta\n",
    "from collections import namedtuple\n",
    "import re\n",
    "from queue import Queue\n",
    "import threading\n",
    "import multiprocessing\n",
    "from multiprocessing import Manager, Process\n",
    "from job_crawler.MySQLWrapper import MySQLWrapper\n",
    "import MySQLdb"
   ]
  }
 ],
 "metadata": {
  "kernelspec": {
   "display_name": "Python 2",
   "language": "python",
   "name": "python2"
  },
  "language_info": {
   "codemirror_mode": {
    "name": "ipython",
    "version": 2
   },
   "file_extension": ".py",
   "mimetype": "text/x-python",
   "name": "python",
   "nbconvert_exporter": "python",
   "pygments_lexer": "ipython2",
   "version": "2.7.6"
  }
 },
 "nbformat": 4,
 "nbformat_minor": 0
}
